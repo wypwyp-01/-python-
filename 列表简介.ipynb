{
 "cells": [
  {
   "cell_type": "markdown",
   "metadata": {},
   "source": [
    "https://www.runoob.com/python3/python3-list.html"
   ]
  },
  {
   "cell_type": "markdown",
   "metadata": {},
   "source": [
    "# 3.1列表是什么"
   ]
  },
  {
   "cell_type": "code",
   "execution_count": 1,
   "metadata": {},
   "outputs": [
    {
     "name": "stdout",
     "output_type": "stream",
     "text": [
      "['trek', 'cannondale', 'redline', 'specialized']\n"
     ]
    }
   ],
   "source": [
    "bicycles=[\"trek\",\"cannondale\",\"redline\",\"specialized\"]\n",
    "print(bicycles)"
   ]
  },
  {
   "cell_type": "markdown",
   "metadata": {},
   "source": [
    "## 3.1.1访问列表元素"
   ]
  },
  {
   "cell_type": "markdown",
   "metadata": {},
   "source": [
    "列表是有序集合，因此要访问列表的任何元素，只需将该元素的位置或索引告诉Python即可。要访问列表元素，可指出列表的名称，再指出元素的索引，并将其放在方括号内。"
   ]
  },
  {
   "cell_type": "code",
   "execution_count": 2,
   "metadata": {},
   "outputs": [
    {
     "name": "stdout",
     "output_type": "stream",
     "text": [
      "trek\n"
     ]
    }
   ],
   "source": [
    "bicycles=[\"trek\",\"cannondale\",\"redline\",\"specialized\"]\n",
    "print(bicycles[0])"
   ]
  },
  {
   "cell_type": "code",
   "execution_count": 3,
   "metadata": {},
   "outputs": [
    {
     "name": "stdout",
     "output_type": "stream",
     "text": [
      "Trek\n"
     ]
    }
   ],
   "source": [
    "bicycles=[\"trek\",\"cannondale\",\"redline\",\"specialized\"]\n",
    "print(bicycles[0].title())"
   ]
  },
  {
   "cell_type": "markdown",
   "metadata": {},
   "source": [
    "## 3.1.2索引从零而不是从一开始"
   ]
  },
  {
   "cell_type": "markdown",
   "metadata": {},
   "source": [
    "    在Python中，第一个列表元素的索引为0，而不是1。在大多数编程语言中都是如此，这与列表操作的底层实现相关。如果结果出乎意料，请看看你是否犯了简单的差一错误。\n",
    "    第二个列表元素的索引为1。根据这种简单的计数方式，要访问列表的任何元素，都可将其位置减1，并将结果作为索引。例如，要访问第四个列表元素，可使用索引3。"
   ]
  },
  {
   "cell_type": "code",
   "execution_count": 4,
   "metadata": {},
   "outputs": [
    {
     "name": "stdout",
     "output_type": "stream",
     "text": [
      "cannondale\n",
      "specialized\n"
     ]
    }
   ],
   "source": [
    "bicycles=[\"trek\",\"cannondale\",\"redline\",\"specialized\"]\n",
    "print(bicycles[1])\n",
    "print(bicycles[3])"
   ]
  },
  {
   "cell_type": "markdown",
   "metadata": {},
   "source": [
    "    Python为访问最后一个列表元素提供了一种特殊语法。通过将索引指定为-1，可让Python返回最后一个列表元素："
   ]
  },
  {
   "cell_type": "code",
   "execution_count": 5,
   "metadata": {},
   "outputs": [
    {
     "name": "stdout",
     "output_type": "stream",
     "text": [
      "specialized\n"
     ]
    }
   ],
   "source": [
    "bicycles=[\"trek\",\"cannondale\",\"redline\",\"specialized\"]\n",
    "print(bicycles[-1])"
   ]
  },
  {
   "cell_type": "markdown",
   "metadata": {},
   "source": [
    "## 3.1.3使用列表中的各个值"
   ]
  },
  {
   "cell_type": "markdown",
   "metadata": {},
   "source": [
    "    可像使用其他变量一样使用列表中的各个值。例如，你可以使用拼接根据列表中的值来创建消息。\n",
    "    下面来尝试从列表中提取第一款自行车，并使用这个值来创建一条消息："
   ]
  },
  {
   "cell_type": "code",
   "execution_count": 7,
   "metadata": {},
   "outputs": [
    {
     "name": "stdout",
     "output_type": "stream",
     "text": [
      "My first bicycle was a Trek\n"
     ]
    }
   ],
   "source": [
    "bicycles = [\"trek\",\"cannondale\",\"redline\",\"specialized\"]\n",
    "message = f\"My first bicycle was a {bicycles[0].title()}\"\n",
    "print(message)"
   ]
  },
  {
   "cell_type": "code",
   "execution_count": 11,
   "metadata": {},
   "outputs": [
    {
     "name": "stdout",
     "output_type": "stream",
     "text": [
      "wang\n",
      "liu\n",
      "feng\n",
      "zhang\n",
      "chen\n",
      "--------------------------------------\n",
      "wang\n",
      "liu\n",
      "feng\n",
      "zhang\n",
      "chen\n",
      "--------------------------------------\n",
      "wang\n",
      "liu\n",
      "feng\n",
      "zhang\n",
      "chen\n"
     ]
    }
   ],
   "source": [
    "#练习3-1\n",
    "names=[\"wang\",\"liu\",\"feng\",\"zhang\",\"chen\"]\n",
    "for i in names:\n",
    "    print(i)\n",
    "print(\"--------------------------------------\")\n",
    "print(names[0])\n",
    "print(names[1])\n",
    "print(names[2])\n",
    "print(names[3])\n",
    "print(names[4])\n",
    "print(\"--------------------------------------\")\n",
    "for i in range(0,5):\n",
    "    print(names[i])"
   ]
  },
  {
   "cell_type": "code",
   "execution_count": 14,
   "metadata": {},
   "outputs": [
    {
     "name": "stdout",
     "output_type": "stream",
     "text": [
      "Wang,happy every day!\n",
      "Liu,happy every day!\n",
      "Feng,happy every day!\n",
      "Zhang,happy every day!\n",
      "Chen,happy every day!\n"
     ]
    }
   ],
   "source": [
    "#练习3-2\n",
    "names=[\"wang\",\"liu\",\"feng\",\"zhang\",\"chen\"]\n",
    "for i in names:\n",
    "    message=f\"{i.title()},happy every day!\"\n",
    "    print(message)"
   ]
  },
  {
   "cell_type": "code",
   "execution_count": 15,
   "metadata": {},
   "outputs": [
    {
     "name": "stdout",
     "output_type": "stream",
     "text": [
      "I would like to own a Honda motorcycle\n",
      "I would like to own a Honda bicycle\n",
      "I would like to own a Honda underground\n",
      "I would like to own a Honda foot\n"
     ]
    }
   ],
   "source": [
    "#练习3-3\n",
    "ways=[\"motorcycle\",\"bicycle\",\"underground\",\"foot\"]\n",
    "for i in ways:\n",
    "    mes=f\"I would like to own a Honda {i}\"\n",
    "    print(mes)"
   ]
  },
  {
   "cell_type": "markdown",
   "metadata": {},
   "source": [
    "# 3.2修改、添加和删除元素"
   ]
  },
  {
   "cell_type": "markdown",
   "metadata": {},
   "source": [
    "## 3.2.1修改列表元素"
   ]
  },
  {
   "cell_type": "code",
   "execution_count": 17,
   "metadata": {},
   "outputs": [
    {
     "name": "stdout",
     "output_type": "stream",
     "text": [
      "['honda', 'yamaha', 'suzuki']\n"
     ]
    }
   ],
   "source": [
    "motorcycles=[\"honda\",\"yamaha\",\"suzuki\"]\n",
    "print(motorcycles)"
   ]
  },
  {
   "cell_type": "markdown",
   "metadata": {},
   "source": [
    "我们首先定义一个摩托车列表，其中的第一个元素为'honda'。接下来，我们将第一个元素的值改为'ducati'。输出表明，第一个元素的值确实变了，但其他列表元素的值没变："
   ]
  },
  {
   "cell_type": "code",
   "execution_count": 18,
   "metadata": {},
   "outputs": [
    {
     "name": "stdout",
     "output_type": "stream",
     "text": [
      "['ducati', 'yamaha', 'suzuki']\n"
     ]
    }
   ],
   "source": [
    "motorcycles[0]=\"ducati\"\n",
    "print(motorcycles)"
   ]
  },
  {
   "cell_type": "markdown",
   "metadata": {},
   "source": [
    "## 3.2.2在列表中添加元素"
   ]
  },
  {
   "cell_type": "markdown",
   "metadata": {},
   "source": [
    "https://www.runoob.com/python3/python3-list.html"
   ]
  },
  {
   "cell_type": "markdown",
   "metadata": {},
   "source": [
    "### append方法:在列表末尾添加元素"
   ]
  },
  {
   "cell_type": "markdown",
   "metadata": {},
   "source": [
    "在列表中添加新元素时，最简单的方式是将元素附加到列表末尾。给列表附加元素时，它将添加到列表末尾。继续使用前一个示例中的列表，在其末尾添加新元素'ducati'："
   ]
  },
  {
   "cell_type": "code",
   "execution_count": 20,
   "metadata": {},
   "outputs": [
    {
     "name": "stdout",
     "output_type": "stream",
     "text": [
      "['honda', 'yamaha', 'suzuki']\n",
      "['honda', 'yamaha', 'suzuki', 'ducati']\n"
     ]
    }
   ],
   "source": [
    "motorcycles=[\"honda\",\"yamaha\",\"suzuki\"]\n",
    "print(motorcycles)\n",
    "motorcycles.append(\"ducati\")\n",
    "print(motorcycles)"
   ]
  },
  {
   "cell_type": "markdown",
   "metadata": {},
   "source": [
    "方法append()让动态地创建列表易如反掌，例如，你可以先创建一个空列表，再使用一系列的append()语句添加元素。下面来创建一个空列表，再在其中添加元素'honda'、'yamaha'和'suzuki'："
   ]
  },
  {
   "cell_type": "code",
   "execution_count": 21,
   "metadata": {},
   "outputs": [
    {
     "name": "stdout",
     "output_type": "stream",
     "text": [
      "['honda', 'yamaha', 'suzuki']\n"
     ]
    }
   ],
   "source": [
    "motorcycles = []\n",
    "motorcycles.append(\"honda\")\n",
    "motorcycles.append(\"yamaha\")\n",
    "motorcycles.append(\"suzuki\")\n",
    "print(motorcycles)"
   ]
  },
  {
   "cell_type": "markdown",
   "metadata": {},
   "source": [
    "这种创建列表的方式极其常见，因为经常要等程序运行后，你才知道用户要在程序中存储哪些数据。为控制用户，可首先创建一个空列表，用于存储用户将要输入的值，然后将用户提供的每个新值附加到列表中。"
   ]
  },
  {
   "cell_type": "markdown",
   "metadata": {},
   "source": [
    "### insert方法：在列表中插入元素"
   ]
  },
  {
   "cell_type": "code",
   "execution_count": 23,
   "metadata": {},
   "outputs": [
    {
     "name": "stdout",
     "output_type": "stream",
     "text": [
      "['ducati', 'honda', 'yamaha', 'suzuki']\n"
     ]
    }
   ],
   "source": [
    "motorcycles=[\"honda\",\"yamaha\",\"suzuki\"]\n",
    "motorcycles.insert(0,\"ducati\")\n",
    "print(motorcycles)"
   ]
  },
  {
   "cell_type": "markdown",
   "metadata": {},
   "source": [
    "在这个示例中，值'ducati'被插入到了列表开头；方法insert()在索引0处添加空间，并将值'ducati'存储到这个地方。这种操作将列表中既有的每个元素都右移一个位置。"
   ]
  },
  {
   "cell_type": "markdown",
   "metadata": {},
   "source": [
    "## 3.2.3从列表中删除元素"
   ]
  },
  {
   "cell_type": "markdown",
   "metadata": {},
   "source": [
    "### del语句：删除元素"
   ]
  },
  {
   "cell_type": "code",
   "execution_count": 106,
   "metadata": {},
   "outputs": [
    {
     "name": "stdout",
     "output_type": "stream",
     "text": [
      "['honda', 'yamaha', 'suzuki']\n",
      "['honda', 'suzuki']\n"
     ]
    }
   ],
   "source": [
    "#删除指定元素\n",
    "motorcycles=[\"honda\",\"yamaha\",\"suzuki\"]\n",
    "print(motorcycles)\n",
    "\n",
    "del motorcycles[1]\n",
    "print(motorcycles)"
   ]
  },
  {
   "cell_type": "code",
   "execution_count": 32,
   "metadata": {},
   "outputs": [
    {
     "name": "stdout",
     "output_type": "stream",
     "text": [
      "[]\n"
     ]
    }
   ],
   "source": [
    "#用del删除所有元素\n",
    "for i in range(len(motorcycles)):\n",
    "    del motorcycles[0]\n",
    "print(motorcycles)"
   ]
  },
  {
   "cell_type": "markdown",
   "metadata": {},
   "source": [
    "### clear方法：清空列表"
   ]
  },
  {
   "cell_type": "code",
   "execution_count": 37,
   "metadata": {},
   "outputs": [
    {
     "name": "stdout",
     "output_type": "stream",
     "text": [
      "[]\n"
     ]
    }
   ],
   "source": [
    "motorcycles=[\"honda\",\"yamaha\",\"suzuki\"]\n",
    "motorcycles.clear()\n",
    "print(motorcycles)"
   ]
  },
  {
   "cell_type": "markdown",
   "metadata": {},
   "source": [
    "### pop方法：将列表中第x个元素取出并删除该元素"
   ]
  },
  {
   "cell_type": "markdown",
   "metadata": {},
   "source": [
    "首先定义并打印列表motorcycles。接下来，从这个列表中弹出一个值，并将其存储到变量popped_motorcycle中。然后我们打印这个列表，以核实从其中删除了一个值。最后，我们打印弹出的值，以证明我们依然能够访问被删除的值。\n",
    "输出表明，列表末尾的值'suzuki'已删除，它现在存储在变量popped_motorcycle中."
   ]
  },
  {
   "cell_type": "code",
   "execution_count": 38,
   "metadata": {},
   "outputs": [
    {
     "name": "stdout",
     "output_type": "stream",
     "text": [
      "['honda', 'yamaha', 'suzuki']\n",
      "['honda', 'yamaha']\n",
      "suzuki\n"
     ]
    }
   ],
   "source": [
    "motorcycles=[\"honda\",\"yamaha\",\"suzuki\"]\n",
    "print(motorcycles)\n",
    "popped_motorcycle=motorcycles.pop()\n",
    "print(motorcycles)\n",
    "print(popped_motorcycle)"
   ]
  },
  {
   "cell_type": "markdown",
   "metadata": {},
   "source": [
    "方法pop()有什么用呢？假设列表中的摩托车是按购买时间存储的，就可使用方法pop()打印一条消息，指出最后购买的是哪款摩托车："
   ]
  },
  {
   "cell_type": "code",
   "execution_count": 40,
   "metadata": {},
   "outputs": [
    {
     "name": "stdout",
     "output_type": "stream",
     "text": [
      "The last motorcycle I owned was a Suzuki\n"
     ]
    }
   ],
   "source": [
    "motorcycles=[\"honda\",\"yamaha\",\"suzuki\"]\n",
    "last_owned=motorcycles.pop()\n",
    "print(f\"The last motorcycle I owned was a {last_owned.title()}\")"
   ]
  },
  {
   "cell_type": "markdown",
   "metadata": {},
   "source": [
    "实际上，你可以使用pop()来删除列表中任何位置的元素，只需在括号中指定要删除的元素的索引即可。"
   ]
  },
  {
   "cell_type": "code",
   "execution_count": 76,
   "metadata": {},
   "outputs": [
    {
     "name": "stdout",
     "output_type": "stream",
     "text": [
      "The second motorcycle I owned was a Yamaha\n",
      "yamaha\n"
     ]
    }
   ],
   "source": [
    "motorcycles=[\"honda\",\"yamaha\",\"suzuki\"]\n",
    "second_owned=motorcycles.pop(1)\n",
    "print(f\"The second motorcycle I owned was a {second_owned.title()}\")\n",
    "print(second_owned)"
   ]
  },
  {
   "cell_type": "markdown",
   "metadata": {},
   "source": [
    "    别忘了，每当你使用pop()时，被弹出的元素就不再在列表中了。\n",
    "    如果你不确定该使用del语句还是pop()方法，下面是一个简单的判断标准：如果你要从列表中删除一个元素，且不再以任何方式使用它，就使用del语句；如果你要在删除元素后还能继续使用它，就使用方法pop()。"
   ]
  },
  {
   "cell_type": "markdown",
   "metadata": {},
   "source": [
    "### remove方法：将列表中出现的第一个元素x删除"
   ]
  },
  {
   "cell_type": "code",
   "execution_count": 43,
   "metadata": {},
   "outputs": [
    {
     "name": "stdout",
     "output_type": "stream",
     "text": [
      "['honda', 'yamaha', 'suzuki']\n",
      "['honda', 'yamaha']\n"
     ]
    }
   ],
   "source": [
    "motorcycles=[\"honda\",\"yamaha\",\"suzuki\"]\n",
    "print(motorcycles)\n",
    "motorcycles.remove(\"suzuki\")\n",
    "print(motorcycles)"
   ]
  },
  {
   "cell_type": "markdown",
   "metadata": {},
   "source": [
    "使用remove()从列表中删除元素时，也可接着使用它的值。下面删除值'ducati'，并打印一条消息，指出要将其从列表中删除的原因："
   ]
  },
  {
   "cell_type": "code",
   "execution_count": 48,
   "metadata": {},
   "outputs": [
    {
     "name": "stdout",
     "output_type": "stream",
     "text": [
      "['honda', 'yamaha', 'suzuki']\n",
      "['honda', 'suzuki']\n",
      "The reason why I remove Yamaha is too expensive\n"
     ]
    }
   ],
   "source": [
    "motorcycles=[\"honda\",\"yamaha\",\"suzuki\"]\n",
    "print(motorcycles)\n",
    "too_expensive=\"yamaha\"\n",
    "motorcycles.remove(too_expensive)\n",
    "print(motorcycles)\n",
    "print(f\"The reason why I remove {too_expensive.title()} is too expensive\")"
   ]
  },
  {
   "cell_type": "markdown",
   "metadata": {},
   "source": [
    "方法remove()只删除第一个指定的值。如果要删除的值可能在列表中出现多次，就需要使用循环来判断是否删除了所有这样的值。"
   ]
  },
  {
   "cell_type": "code",
   "execution_count": 90,
   "metadata": {},
   "outputs": [
    {
     "name": "stdout",
     "output_type": "stream",
     "text": [
      "feng,can you have dinner witn me today?\n",
      "liu,can you have dinner witn me today?\n",
      "fan,can you have dinner witn me today?\n",
      "yiteng,can you have dinner witn me today?\n",
      "tong,can you have dinner witn me today?\n",
      "------------------------------------------\n",
      "['feng', 'liu', 'fan', 'yiteng', 'tong']\n",
      "yiteng can't have dinner with me\n",
      "['feng', 'liu', 'fan', 'tan', 'tong']\n",
      "-------------------------------------------\n",
      "I have found a larger table\n",
      "['gan', 'feng', 'liu', 'song', 'fan', 'tan', 'tong', 'zhao']\n",
      "gan,can you have dinner witn me today?\n",
      "feng,can you have dinner witn me today?\n",
      "liu,can you have dinner witn me today?\n",
      "song,can you have dinner witn me today?\n",
      "fan,can you have dinner witn me today?\n",
      "tan,can you have dinner witn me today?\n",
      "tong,can you have dinner witn me today?\n",
      "zhao,can you have dinner witn me today?\n",
      "---------------------------------------------\n",
      "I can only invite two people to have dinner today\n",
      "gan,I an sorry\n",
      "feng,I an sorry\n",
      "liu,I an sorry\n",
      "song,I an sorry\n",
      "fan,I an sorry\n",
      "tan,I an sorry\n",
      "tong,you are still in the guests\n",
      "zhao,you are still in the guests\n",
      "[]\n"
     ]
    }
   ],
   "source": [
    "#练习3-4\n",
    "guests=[\"feng\",\"liu\",\"fan\",\"yiteng\",\"tong\"]\n",
    "for i in guests:\n",
    "    print(f\"{i},can you have dinner witn me today?\")\n",
    "print(\"------------------------------------------\")\n",
    "#练习3-5\n",
    "print(guests)\n",
    "cant=\"yiteng\"\n",
    "print(f\"{cant} can't have dinner with me\")\n",
    "#找出他是第几个\n",
    "indix=-1\n",
    "for i in range(len(guests)):\n",
    "    indix+=1\n",
    "    if guests[i]==\"yiteng\":\n",
    "        break\n",
    "guests[indix]=\"tan\"\n",
    "print(guests)\n",
    "print(\"-------------------------------------------\")\n",
    "#练习3-6\n",
    "print(\"I have found a larger table\")\n",
    "guests.insert(0,\"gan\")\n",
    "guests.insert(int((len(guests)+1)/2),\"song\")\n",
    "guests.append(\"zhao\")\n",
    "print(guests)\n",
    "for i in guests:\n",
    "    print(f\"{i},can you have dinner witn me today?\")\n",
    "print(\"---------------------------------------------\")\n",
    "#练习3-7\n",
    "print(\"I can only invite two people to have dinner today\")\n",
    "while True:\n",
    "    if len(guests)==2:\n",
    "        break\n",
    "    else:\n",
    "        sorry=guests.pop(0)\n",
    "        print(f\"{sorry},I an sorry\")\n",
    "for i in guests:\n",
    "    print(f\"{i},you are still in the guests\")\n",
    "for i in range(len(guests)):\n",
    "    del guests[0]\n",
    "print(guests)"
   ]
  },
  {
   "cell_type": "markdown",
   "metadata": {},
   "source": [
    "# 3.3组织列表"
   ]
  },
  {
   "cell_type": "markdown",
   "metadata": {},
   "source": [
    "### sort方法：对列表永久排序"
   ]
  },
  {
   "cell_type": "code",
   "execution_count": 91,
   "metadata": {},
   "outputs": [
    {
     "name": "stdout",
     "output_type": "stream",
     "text": [
      "['audi', 'bmw', 'subaru', 'toyota']\n"
     ]
    }
   ],
   "source": [
    "cars=[\"bmw\",\"audi\",\"toyota\",\"subaru\"]\n",
    "cars.sort()\n",
    "print(cars)"
   ]
  },
  {
   "cell_type": "code",
   "execution_count": 93,
   "metadata": {},
   "outputs": [
    {
     "name": "stdout",
     "output_type": "stream",
     "text": [
      "['toyota', 'subaru', 'bmw', 'audi']\n"
     ]
    }
   ],
   "source": [
    "cars.sort(reverse=True)\n",
    "print(cars)"
   ]
  },
  {
   "cell_type": "markdown",
   "metadata": {},
   "source": [
    "### 函数sorted：对列表临时排序"
   ]
  },
  {
   "cell_type": "code",
   "execution_count": 94,
   "metadata": {},
   "outputs": [
    {
     "name": "stdout",
     "output_type": "stream",
     "text": [
      "Here is the original list:\n",
      "['bmw', 'audi', 'toyota', 'subaru']\n",
      "\n",
      "Here is the sorted list:\n",
      "['audi', 'bmw', 'subaru', 'toyota']\n",
      "\n",
      "Here is the original list again:\n",
      "['bmw', 'audi', 'toyota', 'subaru']\n"
     ]
    }
   ],
   "source": [
    "cars=[\"bmw\",\"audi\",\"toyota\",\"subaru\"]\n",
    "print(\"Here is the original list:\")\n",
    "print(cars)\n",
    "print(\"\\nHere is the sorted list:\")\n",
    "print(sorted(cars))\n",
    "print(\"\\nHere is the original list again:\")\n",
    "print(cars)"
   ]
  },
  {
   "cell_type": "markdown",
   "metadata": {},
   "source": [
    "我们首先按原始顺序打印列表，再按字母顺序显示该列表。以特定顺序显示列表后，我们进行核实，确认列表元素的排列顺序与以前相同。"
   ]
  },
  {
   "cell_type": "markdown",
   "metadata": {},
   "source": [
    "### reverse方法：翻转列表"
   ]
  },
  {
   "cell_type": "code",
   "execution_count": 95,
   "metadata": {},
   "outputs": [
    {
     "name": "stdout",
     "output_type": "stream",
     "text": [
      "['bmw', 'audi', 'toyota', 'subaru']\n",
      "['subaru', 'toyota', 'audi', 'bmw']\n"
     ]
    }
   ],
   "source": [
    "cars = ['bmw', 'audi', 'toyota', 'subaru']\n",
    "print(cars)\n",
    "cars.reverse()\n",
    "print(cars)"
   ]
  },
  {
   "cell_type": "markdown",
   "metadata": {},
   "source": [
    "    注意，reverse()不是指按与字母顺序相反的顺序排列列表元素，而只是反转列表元素的排列顺序。\n",
    "    方法reverse()永久性地修改列表元素的排列顺序，但可随时恢复到原来的排列顺序，为此只需对列表再次调用reverse()即可。"
   ]
  },
  {
   "cell_type": "markdown",
   "metadata": {},
   "source": [
    "### len函数：确定列表的长度"
   ]
  },
  {
   "cell_type": "code",
   "execution_count": 97,
   "metadata": {},
   "outputs": [
    {
     "name": "stdout",
     "output_type": "stream",
     "text": [
      "4\n"
     ]
    }
   ],
   "source": [
    "cars = ['bmw', 'audi', 'toyota', 'subaru']\n",
    "print(len(cars))"
   ]
  },
  {
   "cell_type": "code",
   "execution_count": 101,
   "metadata": {},
   "outputs": [
    {
     "name": "stdout",
     "output_type": "stream",
     "text": [
      "打印该列表\n",
      "-----------------------\n",
      "['xian', 'tianjin', 'beijing', 'changsha', 'wuhan', 'zhengzhou', 'xiamen']\n",
      "使用sorted按字母顺序打印\n",
      "--------------------------\n",
      "['beijing', 'changsha', 'tianjin', 'wuhan', 'xiamen', 'xian', 'zhengzhou']\n",
      "再次打印\n",
      "----------------------\n",
      "['xian', 'tianjin', 'beijing', 'changsha', 'wuhan', 'zhengzhou', 'xiamen']\n",
      "使用sorted按与字母顺序相反的顺序打印\n",
      "--------------------------\n",
      "['zhengzhou', 'xian', 'xiamen', 'wuhan', 'tianjin', 'changsha', 'beijing']\n",
      "再次打印，核实排列顺序未变\n",
      "-----------------------------\n",
      "['xian', 'tianjin', 'beijing', 'changsha', 'wuhan', 'zhengzhou', 'xiamen']\n",
      "使用两次reverse\n",
      "['xiamen', 'zhengzhou', 'wuhan', 'changsha', 'beijing', 'tianjin', 'xian']\n",
      "['xian', 'tianjin', 'beijing', 'changsha', 'wuhan', 'zhengzhou', 'xiamen']\n",
      "使用sort\n",
      "['beijing', 'changsha', 'tianjin', 'wuhan', 'xiamen', 'xian', 'zhengzhou']\n",
      "['zhengzhou', 'xian', 'xiamen', 'wuhan', 'tianjin', 'changsha', 'beijing']\n"
     ]
    }
   ],
   "source": [
    "#练习3-8\n",
    "place=[\"xian\",\"tianjin\",\"beijing\",\"changsha\",\"wuhan\",\"zhengzhou\",\"xiamen\"]\n",
    "print(\"打印该列表\\n-----------------------\")\n",
    "print(place)\n",
    "print(\"使用sorted按字母顺序打印\\n--------------------------\")\n",
    "print(sorted(place))\n",
    "print(\"再次打印\\n----------------------\")\n",
    "print(place)\n",
    "print(\"使用sorted按与字母顺序相反的顺序打印\\n--------------------------\")\n",
    "print(sorted(place,reverse=True))\n",
    "print(\"再次打印，核实排列顺序未变\\n-----------------------------\")\n",
    "print(place)\n",
    "print(\"使用两次reverse\")\n",
    "place.reverse()\n",
    "print(place)\n",
    "place.reverse()\n",
    "print(place)\n",
    "print(\"使用sort\")\n",
    "place.sort()\n",
    "print(place)\n",
    "place.sort(reverse=True)\n",
    "print(place)"
   ]
  },
  {
   "cell_type": "code",
   "execution_count": 103,
   "metadata": {},
   "outputs": [
    {
     "name": "stdout",
     "output_type": "stream",
     "text": [
      "I have invited 8 guests to have dinner today\n"
     ]
    }
   ],
   "source": [
    "#练习3-9\n",
    "guests=['gan', 'feng', 'liu', 'song', 'fan', 'tan', 'tong', 'zhao']\n",
    "print(f\"I have invited {len(guests)} guests to have dinner today\")"
   ]
  },
  {
   "cell_type": "code",
   "execution_count": 1,
   "metadata": {
    "scrolled": true
   },
   "outputs": [
    {
     "name": "stdout",
     "output_type": "stream",
     "text": [
      "['gan', 'feng', 'liu', 'song', 'fan', 'tan', 'tong', 'zhao']\n",
      "APPEND\n",
      "['gan', 'feng', 'liu', 'song', 'fan', 'tan', 'tong', 'zhao', 'zhangjiajing']\n",
      "INSERT\n",
      "['gan', 'feng', 'liu', 'song', 'fan', 'yangying', 'tan', 'tong', 'zhao', 'zhangjiajing']\n",
      "DEL\n",
      "['gan', 'feng', 'liu', 'song', 'fan', 'tan', 'tong', 'zhao', 'zhangjiajing']\n",
      "POP\n",
      "['gan', 'feng', 'song', 'fan', 'tan', 'tong', 'zhao', 'zhangjiajing']\n",
      "REMOVE\n",
      "['feng', 'song', 'fan', 'tan', 'tong', 'zhao', 'zhangjiajing']\n",
      "SORTED\n",
      "['fan', 'feng', 'song', 'tan', 'tong', 'zhangjiajing', 'zhao']\n",
      "['zhao', 'zhangjiajing', 'tong', 'tan', 'song', 'feng', 'fan']\n",
      "['feng', 'song', 'fan', 'tan', 'tong', 'zhao', 'zhangjiajing']\n",
      "SORT\n",
      "['fan', 'feng', 'song', 'tan', 'tong', 'zhangjiajing', 'zhao']\n",
      "REVERSE\n",
      "['zhao', 'zhangjiajing', 'tong', 'tan', 'song', 'feng', 'fan']\n"
     ]
    }
   ],
   "source": [
    "#练习3-10\n",
    "sao=['gan', 'feng', 'liu', 'song', 'fan', 'tan', 'tong', 'zhao']\n",
    "print(sao)\n",
    "print(\"APPEND\")\n",
    "sao.append(\"zhangjiajing\")\n",
    "print(sao)\n",
    "print(\"INSERT\")\n",
    "sao.insert(5,\"yangying\")\n",
    "print(sao)\n",
    "print(\"DEL\")\n",
    "del sao[5]\n",
    "print(sao)\n",
    "print(\"POP\")\n",
    "sao.pop(2)\n",
    "print(sao)\n",
    "print(\"REMOVE\")\n",
    "sao.remove(\"gan\")\n",
    "print(sao)\n",
    "print(\"SORTED\")\n",
    "print(sorted(sao))\n",
    "print(sorted(sao,reverse=True))\n",
    "print(sao)\n",
    "print(\"SORT\")\n",
    "sao.sort()\n",
    "print(sao)\n",
    "print(\"REVERSE\")\n",
    "sao.reverse()\n",
    "print(sao)"
   ]
  },
  {
   "cell_type": "markdown",
   "metadata": {},
   "source": []
  },
  {
   "cell_type": "code",
   "execution_count": null,
   "metadata": {},
   "outputs": [],
   "source": []
  }
 ],
 "metadata": {
  "kernelspec": {
   "display_name": "Python 3",
   "language": "python",
   "name": "python3"
  },
  "language_info": {
   "codemirror_mode": {
    "name": "ipython",
    "version": 3
   },
   "file_extension": ".py",
   "mimetype": "text/x-python",
   "name": "python",
   "nbconvert_exporter": "python",
   "pygments_lexer": "ipython3",
   "version": "3.6.5"
  },
  "toc-autonumbering": true,
  "toc-showmarkdowntxt": false,
  "toc-showtags": true
 },
 "nbformat": 4,
 "nbformat_minor": 5
}
